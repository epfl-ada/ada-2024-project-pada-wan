{
 "cells": [
  {
   "cell_type": "code",
   "execution_count": null,
   "metadata": {},
   "outputs": [],
   "source": [
    "import pandas as pd\n",
    "import numpy as np\n",
    "import matplotlib.pyplot as plt\n",
    "#import seaborn as sns"
   ]
  },
  {
   "cell_type": "code",
   "execution_count": null,
   "metadata": {},
   "outputs": [],
   "source": [
    "import os\n",
    "import tarfile\n",
    "\n",
    "# Define the filename and base directory\n",
    "fname = \"matched_beer_data.tar.gz\"\n",
    "base_directory = \"src/data\"\n",
    "\n",
    "# Create the extraction folder name by appending \"data_\" to the base file name (without the extension)\n",
    "base_name = os.path.splitext(os.path.splitext(fname)[0])[0]  # Remove both .tar and .gz\n",
    "extract_folder = os.path.join(base_directory, f\"data_{base_name}\")\n",
    "\n",
    "# Create the folder if it does not exist\n",
    "os.makedirs(extract_folder, exist_ok=True)\n",
    "\n",
    "# Check the file extension and open the tar file accordingly\n",
    "if fname.endswith(\"tar.gz\"):\n",
    "    with tarfile.open(fname, \"r:gz\") as tar:\n",
    "        tar.extractall(path=extract_folder)  # Extract all contents to the specified folder\n",
    "        print(f\"Extracted all contents from {fname} to {extract_folder}\")\n",
    "elif fname.endswith(\"tar\"):\n",
    "    with tarfile.open(fname, \"r:\") as tar:\n",
    "        tar.extractall(path=extract_folder)\n",
    "        print(f\"Extracted all contents from {fname} to {extract_folder}\")\n",
    "else:\n",
    "    print(\"The file is not a recognized .tar.gz or .tar file.\")\n"
   ]
  },
  {
   "cell_type": "code",
   "execution_count": null,
   "metadata": {},
   "outputs": [],
   "source": [
    "import os\n",
    "import tarfile\n",
    "\n",
    "# Define the filename and base directory\n",
    "fname = \"matched_beer_data.tar.gz\"\n",
    "base_directory = \"src/data\"\n",
    "\n",
    "# Create the extraction folder name by appending \"data_\" to the base file name (without the extension)\n",
    "base_name = os.path.splitext(os.path.splitext(fname)[0])[0]  # Remove both .tar and .gz\n",
    "extract_folder = os.path.join(base_directory, f\"data_{base_name}\")\n",
    "\n",
    "# Create the folder if it does not exist\n",
    "os.makedirs(extract_folder, exist_ok=True)\n",
    "\n",
    "# Check the file extension and open the tar file accordingly\n",
    "if fname.endswith(\"tar.gz\"):\n",
    "    with tarfile.open(fname, \"r:gz\") as tar:\n",
    "        tar.extractall(path=extract_folder)  # Extract all contents to the specified folder\n",
    "        print(f\"Extracted all contents from {fname} to {extract_folder}\")\n",
    "elif fname.endswith(\"tar\"):\n",
    "    with tarfile.open(fname, \"r:\") as tar:\n",
    "        tar.extractall(path=extract_folder)\n",
    "        print(f\"Extracted all contents from {fname} to {extract_folder}\")\n",
    "else:\n",
    "    print(\"The file is not a recognized .tar.gz or .tar file.\")\n",
    "\n",
    "\n",
    "\n"
   ]
  },
  {
   "cell_type": "code",
   "execution_count": null,
   "metadata": {},
   "outputs": [],
   "source": [
    "beers = pd.read_csv(\"src/data/data_matched_beer_data/beers.csv\")\n",
    "beers.head()\n"
   ]
  },
  {
   "cell_type": "code",
   "execution_count": null,
   "metadata": {},
   "outputs": [],
   "source": [
    "#What information can help us answer the question : are newcommers welcomed in the beer market?\n",
    "# 1. The number of breweries that have been established in the last 5 years +list of these breweries\n",
    "# 2. The number of customer reviews for each of these breweries, which indicates the popularity of the brewery.\n",
    "# 3. Average rating of the beers from these breweries, which indicates the quality of the beer.\n",
    "# 4. A graph showing the number of total reviews with time to see if the number of reviews is increasing or decreasing.\n",
    "\n",
    "#what information can help us answer the question : parameters : \"Volume_Produced:\" ; \"Total_Sales:\" ; \"Quality_Score:\""
   ]
  },
  {
   "cell_type": "code",
   "execution_count": null,
   "metadata": {},
   "outputs": [],
   "source": [
    "data.info()"
   ]
  },
  {
   "cell_type": "code",
   "execution_count": null,
   "metadata": {},
   "outputs": [],
   "source": [
    "# Group the data by brewery and count the number of reviews for each brewery\n",
    "brewery_reviews = data.groupby('brewery_name')['nbr_reviews'].sum().reset_index()\n",
    "\n",
    "# Sort the data by the number of reviews in descending order\n",
    "brewery_reviews = brewery_reviews.sort_values(by='nbr_reviews', ascending=False)\n",
    "\n",
    "# Plot the data\n",
    "plt.figure(figsize=(15, 8))\n",
    "plt.bar(brewery_reviews['brewery_name'], brewery_reviews['nbr_reviews'])\n",
    "plt.xlabel('Brewery Name')\n",
    "plt.ylabel('Number of Reviews')\n",
    "plt.title('Number of Beer Reviews for Each Brewery')\n",
    "plt.xticks(rotation=90)\n",
    "plt.show()"
   ]
  },
  {
   "cell_type": "code",
   "execution_count": null,
   "metadata": {},
   "outputs": [],
   "source": [
    "from datetime import datetime\n",
    "\n",
    "def convert_timestamp_to_date(timestamp):\n",
    "    \"\"\"\n",
    "    Convert a Unix timestamp to a human-readable date format.\n",
    "\n",
    "    Args:\n",
    "        timestamp (int): Unix timestamp.\n",
    "\n",
    "    Returns:\n",
    "        str: Date in 'YYYY-MM-DD HH:MM:SS' format.\n",
    "    \"\"\"\n",
    "    return datetime.fromtimestamp(timestamp).strftime('%Y-%m-%d %H:%M:%S')\n",
    "\n",
    "# Example usage\n",
    "example_timestamp = 1322564400\n",
    "print(\"Readable date:\", convert_timestamp_to_date(example_timestamp))\n"
   ]
  },
  {
   "cell_type": "code",
   "execution_count": null,
   "metadata": {},
   "outputs": [],
   "source": [
    "#does price correlate with quality and rating?\n",
    "\n"
   ]
  },
  {
   "cell_type": "code",
   "execution_count": null,
   "metadata": {},
   "outputs": [],
   "source": [
    "data.head()"
   ]
  },
  {
   "cell_type": "code",
   "execution_count": null,
   "metadata": {},
   "outputs": [],
   "source": [
    "ratings = pd.read_csv(\"src/data/data_matched_beer_data/ratings.csv\")\n",
    "ratings.head()"
   ]
  },
  {
   "cell_type": "code",
   "execution_count": null,
   "metadata": {},
   "outputs": [],
   "source": [
    "#To do now : 1. number of reviews with time\n",
    "            #2. average grade evolution with time \n",
    "\n",
    "#Part 1 : Number of reviews with time\n",
    "\n",
    "# Convert the 'timestamp' column to a human-readable date format\n",
    "ratings['date_converted_to_classic'] = ratings['date'].apply(convert_timestamp_to_date)"
   ]
  },
  {
   "cell_type": "code",
   "execution_count": 2,
   "metadata": {},
   "outputs": [
    {
     "name": "stdout",
     "output_type": "stream",
     "text": [
      "Extracted all contents from matched_beer_data.tar.gz to src/data\\data_matched_beer_data\n",
      "Extracted all contents from BeerAdvocate.tar.gz to src/data\\data_BeerAdvocate\n",
      "Extracted all contents from RateBeer.tar.gz to src/data\\data_RateBeer\n"
     ]
    }
   ],
   "source": [
    "#access to datasets \n",
    "import os\n",
    "import tarfile\n",
    "import pandas as pd\n",
    "import numpy as np\n",
    "import matplotlib.pyplot as plt\n",
    "\n",
    "    #0. info about datasets : \n",
    "    # 0.1. beers.csv: Contains information about the beers, such as the name, style, and brewery.\n",
    "        # 0.2. breweries.csv: Contains information about the breweries, such as the name and location.\n",
    "        # 0.3. reviews.csv: Contains information about the reviews, such as the beer ID, user ID, and rating.\n",
    "        # 0.4. ratings.csv: Contains information about the ratings, such as the beer ID, user ID, and rating.\n",
    "        # 0.5. users.csv: Contains information about the users, such as the username and age.\n",
    "\n",
    "import os\n",
    "import tarfile\n",
    "\n",
    "# Define the list of filenames to be extracted\n",
    "filenames = [\"matched_beer_data.tar.gz\", \"BeerAdvocate.tar.gz\", \"RateBeer.tar.gz\"]\n",
    "base_directory = \"src/data\"\n",
    "\n",
    "# Loop through each filename in the list\n",
    "for fname in filenames:\n",
    "    # Create the extraction folder named data_{base_name}\n",
    "    base_name = os.path.splitext(os.path.splitext(fname)[0])[0]  # Remove both .tar and .gz\n",
    "    extract_folder = os.path.join(base_directory, f\"data_{base_name}\")\n",
    "    \n",
    "    # Create the folder if it does not exist\n",
    "    os.makedirs(extract_folder, exist_ok=True)\n",
    "    \n",
    "    # Check the file extension and open the tar file accordingly\n",
    "    if fname.endswith(\"tar.gz\"):\n",
    "        with tarfile.open(fname, \"r:gz\") as tar:\n",
    "            tar.extractall(path=extract_folder)  \n",
    "            print(f\"Extracted all contents from {fname} to {extract_folder}\")\n",
    "    elif fname.endswith(\"tar\"):\n",
    "        with tarfile.open(fname, \"r:\") as tar:\n",
    "            tar.extractall(path=extract_folder)\n",
    "            print(f\"Extracted all contents from {fname} to {extract_folder}\")\n",
    "    else:\n",
    "        print(f\"The file {fname} is not a recognized .tar.gz or .tar file.\")\n",
    "\n",
    "\n",
    "\n",
    "#3_ open data in pandas dataframe : \n",
    "    #3.1\n",
    "ba_beers = pd.read_csv(\"src/data/data_BeerAdvocate/beers.csv\")\n",
    "ba_breweries = pd.read_csv(\"src/data/data_BeerAdvocate/breweries.csv\")\n",
    "ba_users = pd.read_csv(\"src/data/data_BeerAdvocate/users.csv\")\n",
    "\n",
    "    #3.2\n",
    "rb_beers = pd.read_csv(\"src/data/data_RateBeer/beers.csv\")\n",
    "rb_breweries = pd.read_csv(\"src/data/data_RateBeer/breweries.csv\")\n",
    "rb_users = pd.read_csv(\"src/data/data_RateBeer/users.csv\")\n",
    "\n",
    "    #3.3 : we will mostly use this files, since they have fusionned the data from the ratebeer and beeradvocate datasets\n",
    "matched_beers = pd.read_csv(\"src/data/data_matched_beer_data/beers.csv\", header=[0, 1])\n",
    "matched_breweries = pd.read_csv(\"src/data/data_matched_beer_data/breweries.csv\", header=[0, 1])\n",
    "matched_ratings = pd.read_csv(\"src/data/data_matched_beer_data/ratings.csv\", header=[0, 1])\n",
    "matched_users_approx = pd.read_csv(\"src/data/data_matched_beer_data/users_approx.csv\", header=[0, 1])\n",
    "matched_users = pd.read_csv(\"src/data/data_matched_beer_data/users.csv\", header=[0, 1])\n",
    "    #3.3.1 : flatten the columns for easier access\n",
    "matched_beers.columns = ['_'.join(col).strip() for col in matched_beers.columns.values]\n",
    "matched_breweries.columns = ['_'.join(col).strip() for col in matched_breweries.columns.values]\n"
   ]
  },
  {
   "cell_type": "code",
   "execution_count": null,
   "metadata": {},
   "outputs": [
    {
     "name": "stdout",
     "output_type": "stream",
     "text": [
      "TOP 1 : The beer '\u001b[1mTrappistes Rochefort 10\u001b[0m', brewed by '\u001b[1mBrasserie de Rochefort\u001b[0m' from, \u001b[1mBelgium\u001b[0m  is of style 'Quadrupel (Quad)' and has been reviewed by 8238 persons with an average grade of 4.373315125030348 .\n",
      "TOP 2 : The beer '\u001b[1mBrooklyn Black Chocolate Stout\u001b[0m', brewed by '\u001b[1mBrooklyn Brewery\u001b[0m' from, \u001b[1mUnited States, New York\u001b[0m  is of style 'Russian Imperial Stout' and has been reviewed by 6263 persons with an average grade of 4.0636244611208685 .\n",
      "TOP 3 : The beer '\u001b[1mDelirium Tremens\u001b[0m', brewed by '\u001b[1mBrouwerij Huyghe\u001b[0m' from, \u001b[1mBelgium\u001b[0m  is of style 'Belgian Strong Pale Ale' and has been reviewed by 5130 persons with an average grade of 3.786432748538012 .\n",
      "TOP 4 : The beer '\u001b[1mAleSmith Speedway Stout\u001b[0m', brewed by '\u001b[1mAleSmith Brewing Company\u001b[0m' from, \u001b[1mUnited States, California\u001b[0m  is of style 'American Double / Imperial Stout' and has been reviewed by 4723 persons with an average grade of 4.327194579716282 .\n",
      "TOP 5 : The beer '\u001b[1mBrooklyn Lager\u001b[0m', brewed by '\u001b[1mBrooklyn Brewery\u001b[0m' from, \u001b[1mUnited States, New York\u001b[0m  is of style 'American Amber / Red Lager' and has been reviewed by 3779 persons with an average grade of 3.5779200846784867 .\n"
     ]
    }
   ],
   "source": [
    "#Data exploration : \n",
    "\n",
    "    #1. Most reviewed brewery.\n",
    "    #2. Most reviewed beer.\n",
    "    #3. Most reviewers per country (in percentage)\n",
    "\n",
    "#1. Most reviewed brewery and average grade : \n",
    "matched_beers['rb_and_ba_total_valid_reviews'] = matched_beers['rb_nbr_matched_valid_ratings'] + matched_beers['ba_nbr_matched_valid_ratings']\n",
    "matched_beers['rb_and_ba_total_matched_valid_ratings'] = (matched_beers['rb_avg_matched_valid_ratings']*matched_beers['rb_nbr_matched_valid_ratings'] + matched_beers['ba_avg_matched_valid_ratings']*matched_beers['ba_nbr_matched_valid_ratings'])/matched_beers['rb_and_ba_total_valid_reviews']\n",
    "\n",
    "\n",
    "# Merge to add 'country' column to matched_beers\n",
    "matched_beers = pd.merge(\n",
    "    matched_beers,\n",
    "       matched_breweries[['rb_id', 'rb_location']],\n",
    "    left_on=['rb_brewery_id'],   # Columns in matched_beers\n",
    "    right_on=['rb_id'],  # Columns in matched_breweries\n",
    "    how=\"left\"\n",
    ")\n",
    "\n",
    "top_beers = matched_beers.sort_values(\n",
    "        by=['rb_and_ba_total_valid_reviews'],ascending=False\n",
    "    ).head(5)\n",
    "\n",
    "# Print all\n",
    "i = 1\n",
    "for _, row in top_beers[['ba_beer_name', 'ba_brewery_name', 'ba_style', 'rb_and_ba_total_valid_reviews', 'rb_and_ba_total_matched_valid_ratings', 'rb_location']].iterrows():\n",
    "    print(f\"TOP {i} : The beer '\\033[1m{row['ba_beer_name']}\\033[0m', brewed by '\\033[1m{row['ba_brewery_name']}\\033[0m' from, \\033[1m{row['rb_location']}\\033[0m \"\n",
    "          f\" is of style '{row['ba_style']}' and has been reviewed by {row['rb_and_ba_total_valid_reviews']} persons with an average grade of {row['rb_and_ba_total_matched_valid_ratings']:.2f} .\")\n",
    "    i+=1\n",
    "\n",
    "    "
   ]
  },
  {
   "cell_type": "code",
   "execution_count": null,
   "metadata": {},
   "outputs": [],
   "source": []
  }
 ],
 "metadata": {
  "kernelspec": {
   "display_name": "python_env1",
   "language": "python",
   "name": "python3"
  },
  "language_info": {
   "codemirror_mode": {
    "name": "ipython",
    "version": 3
   },
   "file_extension": ".py",
   "mimetype": "text/x-python",
   "name": "python",
   "nbconvert_exporter": "python",
   "pygments_lexer": "ipython3",
   "version": "3.11.9"
  }
 },
 "nbformat": 4,
 "nbformat_minor": 2
}
