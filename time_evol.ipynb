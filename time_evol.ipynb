{
 "cells": [
  {
   "cell_type": "code",
   "execution_count": null,
   "metadata": {},
   "outputs": [],
   "source": [
    "import pandas as pd\n",
    "import re\n",
    "import seaborn as sns\n",
    "import matplotlib.pyplot as plt"
   ]
  },
  {
   "cell_type": "code",
   "execution_count": null,
   "metadata": {},
   "outputs": [],
   "source": [
    "#load data\n",
    "df_beers_BA = pd.read_csv('./BeerAdvocate/beers.csv')\n",
    "# df_reviews_BA = pd.read_csv('./BeerAdvocate/ratings.txt/ratings.txt', sep='\\t')\n",
    "\n",
    "df_beers_RB = pd.read_csv('./RateBeer/beers.csv')\n",
    "# df_breweries_RB = pd.read_csv('./RateBeer/breweries.csv')\n",
    "# df_users_RB = pd.read_csv('./RateBeer/users.csv')\n",
    "\n",
    "  \n"
   ]
  },
  {
   "cell_type": "code",
   "execution_count": null,
   "metadata": {},
   "outputs": [],
   "source": [
    "# #convert txt to csv by keeping only the columns we need\n",
    "# # Define file paths and column names\n",
    "# input_file_path = './RateBeer/ratings.txt/ratings.txt'\n",
    "# output_file_path = './RateBeer/ratings.csv'\n",
    "# columns = [\n",
    "#     'beer_name', 'beer_id', 'brewery_name', 'brewery_id', 'style', 'abv', 'date',\n",
    "#     'user_name', 'user_id', 'appearance', 'aroma', 'palate', 'taste', \n",
    "#     'overall', 'rating'\n",
    "# ]  # \"text\" and \"review\" are excluded\n",
    "\n",
    "# # Custom function to parse each entry as a dictionary, ignoring \"text\" and \"review\"\n",
    "# def parse_entry(lines):\n",
    "#     entry = {}\n",
    "#     for line in lines:\n",
    "#         if ': ' in line:\n",
    "#             key, value = line.split(': ', 1)\n",
    "#             if key not in ['text', 'review']:  # Skip \"text\" and \"review\" columns\n",
    "#                 entry[key] = value.strip()\n",
    "#     return entry\n",
    "\n",
    "# # Initialize list to store parsed data (process in chunks to avoid memory issues)\n",
    "# data = []\n",
    "# entry_lines = []\n",
    "\n",
    "# # Open the file and process each line\n",
    "# with open(input_file_path, 'r', encoding='utf-8') as file:\n",
    "#     for line in file:\n",
    "#         if line.strip():  # Collect lines for one entry\n",
    "#             entry_lines.append(line.strip())\n",
    "#         else:\n",
    "#             if entry_lines:  # Parse the collected lines and reset for the next entry\n",
    "#                 data.append(parse_entry(entry_lines))\n",
    "#                 entry_lines = []\n",
    "#     # Parse the last entry if the file doesn't end with a blank line\n",
    "#     if entry_lines:\n",
    "#         data.append(parse_entry(entry_lines))\n",
    "\n",
    "# # Convert to DataFrame directly from the parsed data\n",
    "# df = pd.DataFrame(data, columns=columns)\n",
    "\n",
    "# # Save the DataFrame to a CSV file without the discarded columns\n",
    "# df.to_csv(output_file_path, index=False, encoding='utf-8')\n",
    "\n",
    "# # Confirm file saved successfully\n",
    "# print(f\"Data saved to {output_file_path}\")\n"
   ]
  },
  {
   "cell_type": "code",
   "execution_count": null,
   "metadata": {},
   "outputs": [],
   "source": [
    "example_time = 1438423200\n",
    "\n",
    "def convert_unix_to_datetime(unix_time):\n",
    "    return pd.to_datetime(unix_time, unit='s')\n",
    " \n",
    "print(convert_unix_to_datetime(example_time))   "
   ]
  },
  {
   "cell_type": "code",
   "execution_count": null,
   "metadata": {},
   "outputs": [],
   "source": [
    "df_ratings_BA = pd.read_csv('./BeerAdvocate/ratings.csv')\n",
    "print(df_ratings_BA.head())\n",
    "\n",
    "df_ratings_RB = pd.read_csv('./RateBeer/ratings.csv')\n",
    "print(df_ratings_RB.head())"
   ]
  },
  {
   "cell_type": "code",
   "execution_count": null,
   "metadata": {},
   "outputs": [],
   "source": [
    "#convert date to datetime, keep only days\n",
    "df_ratings_BA['date'] = pd.to_datetime(df_ratings_BA['date'], origin='unix', unit='s').dt.date\n",
    "print(df_ratings_BA.head())\n",
    "df_ratings_RB['date'] = pd.to_datetime(df_ratings_RB['date'], origin='unix', unit='s').dt.date\n",
    "print(df_ratings_RB.head())\n"
   ]
  },
  {
   "cell_type": "code",
   "execution_count": null,
   "metadata": {},
   "outputs": [],
   "source": [
    "\n",
    "#plot number of reviews per day\n",
    "df_ratings_BA['date'].value_counts().sort_index().plot()\n",
    "\n",
    "#add 5 days moving average\n",
    "df_ratings_BA['date'].value_counts().sort_index().rolling(window=30).mean().plot()\n",
    "\n",
    "plt.show()"
   ]
  },
  {
   "cell_type": "code",
   "execution_count": null,
   "metadata": {},
   "outputs": [],
   "source": [
    "#plot number of reviews per day\n",
    "df_ratings_RB['date'].value_counts().sort_index().plot()\n",
    "\n",
    "#add 5 days moving average\n",
    "df_ratings_RB['date'].value_counts().sort_index().rolling(window=30).mean().plot()\n",
    "\n",
    "plt.show()"
   ]
  },
  {
   "cell_type": "code",
   "execution_count": null,
   "metadata": {},
   "outputs": [],
   "source": [
    "#look at the evolution of the average grade over time\n",
    "df_ratings_BA.groupby('date')['rating'].mean().plot()\n",
    "plt.show()"
   ]
  },
  {
   "cell_type": "code",
   "execution_count": null,
   "metadata": {},
   "outputs": [],
   "source": [
    "df_ratings_RB.groupby('date')['rating'].mean().plot()\n",
    "\n",
    "plt.show()"
   ]
  },
  {
   "cell_type": "code",
   "execution_count": null,
   "metadata": {},
   "outputs": [],
   "source": [
    "#average grade per type of beer\n",
    "# Plot only the top 20 beer styles by average rating\n",
    "top_styles = df_ratings_BA.groupby('style')['rating'].mean().sort_values().tail(50)\n",
    "top_styles.plot(kind='barh', figsize=(10, 8), fontsize=8)\n",
    "\n",
    "plt.show()"
   ]
  },
  {
   "cell_type": "code",
   "execution_count": null,
   "metadata": {},
   "outputs": [],
   "source": [
    "top_styles = df_ratings_RB.groupby('style')['rating'].mean().sort_values().tail(50)\n",
    "top_styles.plot(kind='barh', figsize=(10, 8), fontsize=8)\n",
    "\n",
    "plt.show()"
   ]
  },
  {
   "cell_type": "code",
   "execution_count": null,
   "metadata": {},
   "outputs": [],
   "source": [
    "#plot the number of reviews per style\n",
    "number_of_reviews_per_style = df_ratings_BA['style'].value_counts().head(50)\n",
    "number_of_reviews_per_style.plot(kind='barh', figsize=(10, 8), fontsize=8)\n"
   ]
  },
  {
   "cell_type": "code",
   "execution_count": null,
   "metadata": {},
   "outputs": [],
   "source": [
    "#create a seasonal dataframe by keeping only the month and day\n",
    "df_ratings_BA['date'] = pd.to_datetime(df_ratings_BA['date'])\n",
    "df_ratings_BA['month_day'] = df_ratings_BA['date'].dt.strftime('%m-%d')\n",
    "print(df_ratings_BA.head())\n",
    "\n"
   ]
  },
  {
   "cell_type": "code",
   "execution_count": null,
   "metadata": {},
   "outputs": [],
   "source": [
    "df_ratings_RB['date'] = pd.to_datetime(df_ratings_RB['date'])\n",
    "df_ratings_RB['month_day'] = df_ratings_RB['date'].dt.strftime('%m-%d')"
   ]
  },
  {
   "cell_type": "code",
   "execution_count": null,
   "metadata": {},
   "outputs": [],
   "source": [
    "#plot the number of reviews per day of the year\n",
    "\n",
    "#Not perfect as should be normalized for each year\n",
    "\n",
    "number_of_reviews_per_day_BA = df_ratings_BA['month_day'].value_counts().sort_index().rolling(window=7).mean() \n",
    "number_of_reviews_per_day_BA.plot()"
   ]
  },
  {
   "cell_type": "code",
   "execution_count": null,
   "metadata": {},
   "outputs": [],
   "source": [
    "number_of_reviews_per_day_RB = df_ratings_RB['month_day'].value_counts().sort_index().rolling(window=7).mean() \n",
    "number_of_reviews_per_day_RB.plot()"
   ]
  },
  {
   "cell_type": "code",
   "execution_count": null,
   "metadata": {},
   "outputs": [],
   "source": [
    "top_styles_BA = df_ratings_BA.groupby('style')['rating'].mean().sort_values().tail(5)\n",
    "print(top_styles_BA)\n",
    "top_styles_RB = df_ratings_RB.groupby('style')['rating'].mean().sort_values().tail(5)\n",
    "print(top_styles_RB)"
   ]
  },
  {
   "cell_type": "code",
   "execution_count": null,
   "metadata": {},
   "outputs": [],
   "source": [
    "#average grade (rolling average) per type of beer for top_styles on seasonal data\n",
    "df_ratings_BA_top = df_ratings_BA[df_ratings_BA['style'].isin(top_styles_BA.index)]\n",
    "df_ratings_BA_top.groupby(['style', 'month_day'])['rating'].mean().unstack('style').rolling(window=7).mean().plot()\n"
   ]
  },
  {
   "cell_type": "code",
   "execution_count": null,
   "metadata": {},
   "outputs": [],
   "source": [
    "df_ratings_RB_top = df_ratings_RB[df_ratings_RB['style'].isin(top_styles_RB.index)]\n",
    "df_ratings_RB_top.groupby(['style', 'month_day'])['rating'].mean().unstack('style').rolling(window=7).mean().plot()"
   ]
  },
  {
   "cell_type": "code",
   "execution_count": null,
   "metadata": {},
   "outputs": [],
   "source": []
  }
 ],
 "metadata": {
  "kernelspec": {
   "display_name": "ada",
   "language": "python",
   "name": "python3"
  },
  "language_info": {
   "codemirror_mode": {
    "name": "ipython",
    "version": 3
   },
   "file_extension": ".py",
   "mimetype": "text/x-python",
   "name": "python",
   "nbconvert_exporter": "python",
   "pygments_lexer": "ipython3",
   "version": "3.11.9"
  }
 },
 "nbformat": 4,
 "nbformat_minor": 2
}
